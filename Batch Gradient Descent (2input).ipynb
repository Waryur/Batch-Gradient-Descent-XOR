{
 "cells": [
  {
   "cell_type": "code",
   "execution_count": 1,
   "metadata": {},
   "outputs": [
    {
     "data": {
      "text/plain": [
       "'\\n3N in the Input Layer\\n4N in the Hidden Layer\\n1N in the Output Layer\\n'"
      ]
     },
     "execution_count": 1,
     "metadata": {},
     "output_type": "execute_result"
    }
   ],
   "source": [
    "%matplotlib inline\n",
    "import numpy as np\n",
    "from matplotlib import pyplot as plt\n",
    "'''\n",
    "2N in the Input Layer\n",
    "2N in the Hidden Layer\n",
    "1N in the Output Layer\n",
    "'''"
   ]
  },
  {
   "cell_type": "code",
   "execution_count": 14,
   "metadata": {},
   "outputs": [
    {
     "name": "stdout",
     "output_type": "stream",
     "text": [
      "[[-1.32383905  1.21772623]\n",
      " [-1.32383905  1.21772623]\n",
      " [-1.32383905  1.21772623]\n",
      " [-1.32383905  1.21772623]]\n",
      "[[1.53184898]\n",
      " [1.53184898]\n",
      " [1.53184898]\n",
      " [1.53184898]]\n"
     ]
    }
   ],
   "source": [
    "\n",
    "\n",
    "def sigmoid(x):\n",
    "    return 1 / (1+np.exp(-x))\n",
    "\n",
    "def sigmoid_p(x):\n",
    "    return sigmoid(x) * (1-sigmoid(x))\n",
    "\n",
    "def loss(a, y):\n",
    "    return -1 * ((y * np.log(a)) + (1-y) * np.log(1-a))\n",
    "#     if y == 1:\n",
    "#         return -np.log(a)\n",
    "#     else:\n",
    "#         return -np.log(1-a)\n",
    "\n",
    "def loss_d(a, y):\n",
    "    return (-1 * y / a) + (1-y)/(1-a)\n",
    "#     if y == 1:\n",
    "#         return -1/a\n",
    "#     else:\n",
    "#         return 1/(1-a)\n",
    "\n",
    "InputData = np.array([[0, 0],\n",
    "               [0, 1],\n",
    "               [1, 0],\n",
    "               [1, 1]])\n",
    "\n",
    "TargetData = np.array([[0], [1], [1], [0]])\n",
    "\n",
    "TestData = np.array([[1, 1, 0],\n",
    "                     [0, 1, 1]])\n",
    "\n",
    "w1 = np.zeros((2, 2))\n",
    "b1 = np.random.randn(2, 1)\n",
    "b1 = np.repeat(b1, 4, axis=1).T\n",
    "print(b1)\n",
    "\n",
    "w2 = np.zeros((1, 2))\n",
    "b2 = np.random.randn(1, 1)\n",
    "b2 = np.repeat(b2, 4).reshape(4, 1)\n",
    "print(b2)\n",
    "iterations = 500\n",
    "lr = 0.1\n",
    "costlist = []\n",
    "\n"
   ]
  },
  {
   "cell_type": "code",
   "execution_count": 15,
   "metadata": {},
   "outputs": [],
   "source": [
    "for i in range(iterations):\n",
    "    \n",
    "\n",
    "    z1 = np.dot(InputData, w1.T) + b1\n",
    "    a1 = sigmoid(z1)\n",
    "    \n",
    "    z2 = np.dot(a1, w2.T) + b2\n",
    "    a2 = sigmoid(z2)\n",
    "\n",
    "    cost = loss(a2, TargetData)\n",
    "    if i % 100 == 0:\n",
    "        costlist.append(np.sum(cost))\n",
    "\n",
    "    #backprop\n",
    "    #dcda2, da2dz2\n",
    "    delta = a2 - TargetData # 6, 1\n",
    "    dz2dw2 = a1 # 6, 4\n",
    "    dz2da1 = w2 # 1, 4\n",
    "    da1dz1 = sigmoid_p(z1) #6, 4\n",
    "    dz1dw1 = InputData # 6, 3\n",
    "    \n",
    "    w2 = w2 - lr * np.dot(delta.T, dz2dw2)\n",
    "    b2 = b2 - lr * delta\n",
    "    \n",
    "    w1 = w1 - lr * np.dot((np.dot(delta, w2) * da1dz1).T, dz1dw1)\n",
    "    b1 = b1 - lr * (np.dot(delta, w2) * da1dz1)\n"
   ]
  },
  {
   "cell_type": "code",
   "execution_count": 16,
   "metadata": {},
   "outputs": [
    {
     "data": {
      "text/plain": [
       "[<matplotlib.lines.Line2D at 0x1c3c8b68ef0>]"
      ]
     },
     "execution_count": 16,
     "metadata": {},
     "output_type": "execute_result"
    },
    {
     "data": {
      "image/png": "[encoded data removed]",
      "text/plain": [
       "<Figure size 432x288 with 1 Axes>"
      ]
     },
     "metadata": {
      "needs_background": "light"
     },
     "output_type": "display_data"
    }
   ],
   "source": [
    "plt.plot(costlist)"
   ]
  },
  {
   "cell_type": "code",
   "execution_count": 17,
   "metadata": {},
   "outputs": [
    {
     "name": "stdout",
     "output_type": "stream",
     "text": [
      "Prediction: \n",
      " [[0.01557315]\n",
      " [0.98046197]\n",
      " [0.98046197]\n",
      " [0.01677369]] \n",
      "\n",
      "cost: \n",
      " [[0.01569568]\n",
      " [0.01973142]\n",
      " [0.01973142]\n",
      " [0.01691596]] \n",
      "\n"
     ]
    }
   ],
   "source": [
    "z1 = np.dot(InputData, w1.T) + b1\n",
    "a1 = sigmoid(z1)\n",
    "\n",
    "z2 = np.dot(a1, w2.T) + b2\n",
    "a2 = sigmoid(z2)\n",
    "\n",
    "cost = loss(a2, TargetData)\n",
    "print(\"Prediction: \\n\", a2, \"\\n\")\n",
    "print(\"cost: \\n\", cost, \"\\n\")\n",
    "\n"
   ]
  },
  {
   "cell_type": "code",
   "execution_count": null,
   "metadata": {},
   "outputs": [],
   "source": []
  }
 ],
 "metadata": {
  "kernelspec": {
   "display_name": "Python 3",
   "language": "python",
   "name": "python3"
  },
  "language_info": {
   "codemirror_mode": {
    "name": "ipython",
    "version": 3
   },
   "file_extension": ".py",
   "mimetype": "text/x-python",
   "name": "python",
   "nbconvert_exporter": "python",
   "pygments_lexer": "ipython3",
   "version": "3.7.1"
  }
 },
 "nbformat": 4,
 "nbformat_minor": 2
}
